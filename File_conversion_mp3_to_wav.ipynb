{
  "nbformat": 4,
  "nbformat_minor": 0,
  "metadata": {
    "colab": {
      "provenance": []
    },
    "kernelspec": {
      "name": "python3",
      "display_name": "Python 3"
    },
    "language_info": {
      "name": "python"
    }
  },
  "cells": [
    {
      "cell_type": "markdown",
      "source": [
        "# **.mp3 to .wav file conversion**"
      ],
      "metadata": {
        "id": "MkaMig5CLbDc"
      }
    },
    {
      "cell_type": "markdown",
      "source": [
        "**First we will install the necesary modules if not already present in our system**"
      ],
      "metadata": {
        "id": "NEdjmqtwLjve"
      }
    },
    {
      "cell_type": "code",
      "source": [
        "pip install pydub"
      ],
      "metadata": {
        "colab": {
          "base_uri": "https://localhost:8080/"
        },
        "id": "KrrXEALFKkxl",
        "outputId": "9c024b01-0308-4ca9-eec5-e9415e574701"
      },
      "execution_count": null,
      "outputs": [
        {
          "output_type": "stream",
          "name": "stdout",
          "text": [
            "Looking in indexes: https://pypi.org/simple, https://us-python.pkg.dev/colab-wheels/public/simple/\n",
            "Requirement already satisfied: pydub in /usr/local/lib/python3.9/dist-packages (0.25.1)\n"
          ]
        }
      ]
    },
    {
      "cell_type": "code",
      "source": [
        "pip install ffmpeg "
      ],
      "metadata": {
        "colab": {
          "base_uri": "https://localhost:8080/"
        },
        "id": "yVQYFgTdbA88",
        "outputId": "48cb7d54-2372-4559-96e4-903ff282cc83"
      },
      "execution_count": null,
      "outputs": [
        {
          "output_type": "stream",
          "name": "stdout",
          "text": [
            "Looking in indexes: https://pypi.org/simple, https://us-python.pkg.dev/colab-wheels/public/simple/\n",
            "Collecting ffmpeg\n",
            "  Downloading ffmpeg-1.4.tar.gz (5.1 kB)\n",
            "  Preparing metadata (setup.py) ... \u001b[?25l\u001b[?25hdone\n",
            "Building wheels for collected packages: ffmpeg\n",
            "  Building wheel for ffmpeg (setup.py) ... \u001b[?25l\u001b[?25hdone\n",
            "  Created wheel for ffmpeg: filename=ffmpeg-1.4-py3-none-any.whl size=6083 sha256=7e70e1e879fafe474f96aa1f6acdfb1a8d3cbb26960a4d7dd99ec7586939086f\n",
            "  Stored in directory: /root/.cache/pip/wheels/1d/57/24/4eff6a03a9ea0e647568e8a5a0546cdf957e3cf005372c0245\n",
            "Successfully built ffmpeg\n",
            "Installing collected packages: ffmpeg\n",
            "Successfully installed ffmpeg-1.4\n"
          ]
        }
      ]
    },
    {
      "cell_type": "markdown",
      "source": [
        "**We then import the modules into our code**"
      ],
      "metadata": {
        "id": "lUjFu8KKLqDs"
      }
    },
    {
      "cell_type": "code",
      "source": [
        "import os\n",
        "from pydub import AudioSegment\n",
        "import os.path\n",
        "import sys"
      ],
      "metadata": {
        "id": "ZW1oAiFULVHu"
      },
      "execution_count": null,
      "outputs": []
    },
    {
      "cell_type": "markdown",
      "source": [
        "**Here a function is created called 'file_conversion' where we pass two arguments, source path and the destination path, and we read the set of files from the path provided and convert them.**"
      ],
      "metadata": {
        "id": "J9jsTz38Lxbr"
      }
    },
    {
      "cell_type": "code",
      "source": [
        "def file_conversion(source, destination):\n",
        "  # Get all .mp3 files present in the folder\n",
        "  src = source.replace('\\\\', '/')\n",
        "  dst = destination.replace('\\\\', '/')\n",
        "  filelist = []\n",
        "  for path, subdirs, files in os.walk(src):\n",
        "    for file in files:\n",
        "      if file.endswith('.mp3') or file.endswith('.MP3'):\n",
        "        filelist.append(os.path.join(path, file))\n",
        "  # Printing all the .mp3 files found in the source directory\n",
        "  if len(filelist)==0:\n",
        "    sys.exit(\"No .mp3 files found!!\\nPlease check the directory\")\n",
        "  print(filelist)\n",
        "\n",
        "  # Adding a check point to check if the destination folder is present or not. If not, creating it\n",
        "  if not os.path.isdir(dst):\n",
        "    os.mkdir(dst)\n",
        "  \n",
        "  # Change the working directory to the destination path\n",
        "  os.chdir(dst)\n",
        "  \n",
        "  for files in filelist:\n",
        "    name = (os.path.splitext(files)[0]).split('/')[-1]\n",
        "    mp3_sound = AudioSegment.from_mp3(files)\n",
        "    mp3_sound.export(\"{0}.wav\".format(name), format=\"wav\")\n"
      ],
      "metadata": {
        "id": "kfLxBOgMUf-I"
      },
      "execution_count": 65,
      "outputs": []
    },
    {
      "cell_type": "markdown",
      "source": [
        "This is the main part where we call the function and send the parameters"
      ],
      "metadata": {
        "id": "zqr1dvl5MDYX"
      }
    },
    {
      "cell_type": "code",
      "source": [
        "# Taking the user input of the source and destination paths that we need to look into\n",
        "src = input(\"Enter the source path of the MP3 files: \")\n",
        "dst = input(\"Enter the destination where the conveter wav needs to be saved: \")\n",
        "file_conversion(src, dst)"
      ],
      "metadata": {
        "colab": {
          "base_uri": "https://localhost:8080/"
        },
        "id": "GwPlgkp6LYmG",
        "outputId": "272881e8-70d1-4dfa-ed6b-fcf15ad9cd78"
      },
      "execution_count": 66,
      "outputs": [
        {
          "output_type": "stream",
          "name": "stdout",
          "text": [
            "Enter the source path of the MP3 files: /content/\n",
            "Enter the destination where the conveter wav needs to be saved: /content/Output_wav/\n",
            "['/content/[Electro] - Au5 - Inside (feat. Danyka Nadeau) [Monstercat Release].mp3']\n"
          ]
        }
      ]
    },
    {
      "cell_type": "markdown",
      "source": [
        "So the end result is that all the .mp3 files in the provided source path will be converted to .wav format and those files will be saved in the destination folder."
      ],
      "metadata": {
        "id": "gP62o7YfMNnk"
      }
    }
  ]
}